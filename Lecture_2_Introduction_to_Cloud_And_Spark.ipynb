{
 "cells": [
  {
   "cell_type": "markdown",
   "metadata": {
    "slideshow": {
     "slide_type": "slide"
    }
   },
   "source": [
    "<center><h1>Introduction to the Cloud and Apache Spark</h1></center>"
   ]
  },
  {
   "cell_type": "markdown",
   "metadata": {
    "slideshow": {
     "slide_type": "slide"
    }
   },
   "source": [
    "<h2>Overview</h2>"
   ]
  },
  {
   "cell_type": "markdown",
   "metadata": {
    "slideshow": {
     "slide_type": "fragment"
    }
   },
   "source": [
    "<ul>\n",
    "    <li>Introduction to the Cloud</li>\n",
    "    <li>Context</li>\n",
    "<li>Basics of Apache Spark</li>\n",
    "    <li>Run Apache Spark on the Cloud</li>\n",
    "</ul>"
   ]
  },
  {
   "cell_type": "markdown",
   "metadata": {
    "slideshow": {
     "slide_type": "slide"
    }
   },
   "source": [
    "<h2>Why would you go with the Cloud?</h2>"
   ]
  },
  {
   "cell_type": "markdown",
   "metadata": {
    "slideshow": {
     "slide_type": "fragment"
    }
   },
   "source": [
    "<img src=\"http://stat.cmu.edu/~mfarag/652/lectures/l2/cloud_characteristics.png\" height=\"250px\"/>"
   ]
  },
  {
   "cell_type": "markdown",
   "metadata": {
    "slideshow": {
     "slide_type": "slide"
    }
   },
   "source": [
    "<h2>What is Cloud in the REAL World?</h2>"
   ]
  },
  {
   "cell_type": "markdown",
   "metadata": {
    "slideshow": {
     "slide_type": "fragment"
    }
   },
   "source": [
    "<ul>\n",
    "<li><b>“Cloud”</b> refers to large Internet services running on 10,000s of machines (Amazon, Google, Microsoft, etc) </li>\n",
    "\n",
    "<li><b>“Cloud computing”</b> refers to services by these companies that let external customers rent cycles and storage\n",
    "\n",
    "<ul>\n",
    "    <li>Amazon EC2: virtual machines at 8.5¢/hour (approximated cost)</li>\n",
    "    <li>Amazon S3: storage at 21¢/GB/month (approximated cost)</li>\n",
    "    <li>Google Cloud AppEngine</li>\n",
    "    <li>Windows Azure</li>\n",
    "    </ul>\n",
    "</li>\n",
    "    </ul>\n",
    " "
   ]
  },
  {
   "cell_type": "raw",
   "metadata": {
    "slideshow": {
     "slide_type": "notes"
    }
   },
   "source": [
    "<p style=\"page-break-after:always;\"></p>"
   ]
  },
  {
   "cell_type": "markdown",
   "metadata": {
    "slideshow": {
     "slide_type": "slide"
    }
   },
   "source": [
    "<h2>Connect the Dots!</h2>"
   ]
  },
  {
   "cell_type": "markdown",
   "metadata": {
    "slideshow": {
     "slide_type": "fragment"
    }
   },
   "source": [
    "<img src=\"http://www.andrew.cmu.edu/~mfarag/static/mlmodeling.png\" height=\"250px\"/>"
   ]
  },
  {
   "cell_type": "raw",
   "metadata": {
    "slideshow": {
     "slide_type": "notes"
    }
   },
   "source": [
    "<p style=\"page-break-after:always;\"></p>"
   ]
  },
  {
   "cell_type": "markdown",
   "metadata": {
    "slideshow": {
     "slide_type": "slide"
    }
   },
   "source": [
    "<h2>Context</h2>"
   ]
  },
  {
   "cell_type": "markdown",
   "metadata": {
    "slideshow": {
     "slide_type": "fragment"
    }
   },
   "source": [
    "Last lecture, we talked about the machine learning modeling process. Now, let's switch gears and discuss our technical infrastructure that can be deployed later to the cloud. You will need Spark installed on your machine in order to run the code snippets in this lecture."
   ]
  },
  {
   "cell_type": "markdown",
   "metadata": {
    "slideshow": {
     "slide_type": "slide"
    }
   },
   "source": [
    "In this class, we will use <b>Apache Spark</b> for data preparation, cleaning, and feature engineering. But why Spark?"
   ]
  },
  {
   "cell_type": "markdown",
   "metadata": {
    "slideshow": {
     "slide_type": "slide"
    }
   },
   "source": [
    "<h2>Why Spark?</h2>"
   ]
  },
  {
   "cell_type": "markdown",
   "metadata": {
    "slideshow": {
     "slide_type": "fragment"
    }
   },
   "source": [
    "<ul>\n",
    "<li>Developed in 2009 at UC Berkeley AMPLab, then open sourced in 2010, </li>\n",
    "<li>Spark is the next revolution of the popular Hadoop MapReduce framework.</li>\n",
    "\n",
    "<li>Gartner, Advanced Analytics and Data Science (2014) \"Organizations that are looking at big data challenges – including collection, ETL, storage, exploration and analytics – should consider Spark for its in-memory performance and the breadth of its model. It supports advanced analytics solutions on Hadoop clusters, including the iterative model required for machine learning and graph analysis.\"</li>"
   ]
  },
  {
   "cell_type": "markdown",
   "metadata": {
    "slideshow": {
     "slide_type": "slide"
    }
   },
   "source": [
    "<h2>Pandas vs PySpark (Spark developed in Python)</h2>"
   ]
  },
  {
   "cell_type": "markdown",
   "metadata": {
    "slideshow": {
     "slide_type": "fragment"
    }
   },
   "source": [
    "In a research done by Databricks, an industrial leader in the domain of big data storage and processing, PySpark shows superior performance compared to traditional implementations.\n",
    "<center><figure><img src=\"http://stat.cmu.edu/~mfarag/14810/l6/pandas_vs_pyspark.png\"/></figure></center>\n"
   ]
  },
  {
   "cell_type": "raw",
   "metadata": {
    "slideshow": {
     "slide_type": "notes"
    }
   },
   "source": [
    "<p style=\"page-break-after:always;\"></p>"
   ]
  },
  {
   "cell_type": "markdown",
   "metadata": {
    "slideshow": {
     "slide_type": "slide"
    }
   },
   "source": [
    "<h2>What is Spark?</h2>"
   ]
  },
  {
   "cell_type": "markdown",
   "metadata": {
    "slideshow": {
     "slide_type": "fragment"
    }
   },
   "source": [
    "<ul>\n",
    "<li>Apache Spark is a fast and general-purpose cluster computing system for large scale data processing.</li>\n",
    "<li>Spark was originally written in Scala, which allows concise function syntax and interactive use.</li>\n",
    "    <li>Apache Spark provides High-level APIs in Java, Scala, Python (PySpark) and R.</li>    \n",
    "    <li>Apache Spark combines two different modes of processing:<ul>\n",
    "        <li><b>Batch-based Processing</b> which can be provided via Apache Hadoop MapReduce</li>\n",
    "        <li><b>Real-time Processing</b> which can be provided via Apache Storm.</li>\n",
    "        </ul>\n",
    "        </li>\n",
    "    </ul>"
   ]
  },
  {
   "cell_type": "markdown",
   "metadata": {
    "slideshow": {
     "slide_type": "slide"
    }
   },
   "source": [
    "<center><figure><img src=\"http://stat.cmu.edu/~mfarag/14810/l3/batch_vs_realtime.png\"/></figure></center>\n"
   ]
  },
  {
   "cell_type": "markdown",
   "metadata": {
    "slideshow": {
     "slide_type": "slide"
    }
   },
   "source": [
    "<h2>Spark Ecosytem</h2>"
   ]
  },
  {
   "cell_type": "markdown",
   "metadata": {
    "slideshow": {
     "slide_type": "fragment"
    }
   },
   "source": [
    "<center><figure><img src=\"http://stat.cmu.edu/~mfarag/14810/l3/spark_ecosystem.png\"/></figure></center>"
   ]
  },
  {
   "cell_type": "raw",
   "metadata": {
    "slideshow": {
     "slide_type": "notes"
    }
   },
   "source": [
    "<p style=\"page-break-after:always;\"></p>"
   ]
  },
  {
   "cell_type": "markdown",
   "metadata": {
    "slideshow": {
     "slide_type": "slide"
    }
   },
   "source": [
    "<h2>Spark Componenets</h2>"
   ]
  },
  {
   "cell_type": "markdown",
   "metadata": {
    "slideshow": {
     "slide_type": "fragment"
    }
   },
   "source": [
    "<center><figure><img src=\"http://stat.cmu.edu/~mfarag/14810/l3/spark_components.png\"/></figure></center>"
   ]
  },
  {
   "cell_type": "markdown",
   "metadata": {
    "slideshow": {
     "slide_type": "slide"
    }
   },
   "source": [
    "<h3>Spark Core</h3>"
   ]
  },
  {
   "cell_type": "markdown",
   "metadata": {
    "slideshow": {
     "slide_type": "fragment"
    }
   },
   "source": [
    "Spark Core is the general execution engine for the Spark platform that other functionalities are built on top of it. \n",
    "Spark has several advantages: \n",
    "<ul>\n",
    "<li>Speed: runs programs up to 100x faster than Hadoop MapReduce in memory, or 10x faster on disk</li>\n",
    "    <li>Ease of Use: Write applications quickly in Java, Scala, Python, R</li>\n",
    "<li>Generality: Combine SQL, streaming, and complex analytics</li>\n",
    "<li>Runs Everywhere: Spark runs on Hadoop, Mesos, standalone, or in the cloud. It can access diverse data sources including HDFS, Cassandra, HBase, and S3</li>\n",
    "</ul>"
   ]
  },
  {
   "cell_type": "code",
   "execution_count": 1,
   "metadata": {
    "slideshow": {
     "slide_type": "slide"
    }
   },
   "outputs": [
    {
     "name": "stdout",
     "output_type": "stream",
     "text": [
      "Requirement already satisfied: findspark in c:\\users\\haiya\\anaconda3\\lib\\site-packages (2.0.1)\n"
     ]
    }
   ],
   "source": [
    "# if you installed Spark on windows, \n",
    "# you may need findspark and need to initialize it prior to being able to use pyspark\n",
    "\n",
    "!pip install findspark"
   ]
  },
  {
   "cell_type": "code",
   "execution_count": 2,
   "metadata": {
    "slideshow": {
     "slide_type": "slide"
    }
   },
   "outputs": [
    {
     "ename": "ValueError",
     "evalue": "Couldn't find Spark, make sure SPARK_HOME env is set or Spark is in an expected location (e.g. from homebrew installation).",
     "output_type": "error",
     "traceback": [
      "\u001b[1;31m---------------------------------------------------------------------------\u001b[0m",
      "\u001b[1;31mValueError\u001b[0m                                Traceback (most recent call last)",
      "Cell \u001b[1;32mIn[2], line 3\u001b[0m\n\u001b[0;32m      1\u001b[0m \u001b[38;5;66;03m# Uncomment the following lines if you are using Windows!\u001b[39;00m\n\u001b[0;32m      2\u001b[0m \u001b[38;5;28;01mimport\u001b[39;00m\u001b[38;5;250m \u001b[39m\u001b[38;5;21;01mfindspark\u001b[39;00m\n\u001b[1;32m----> 3\u001b[0m findspark\u001b[38;5;241m.\u001b[39minit()\n\u001b[0;32m      4\u001b[0m findspark\u001b[38;5;241m.\u001b[39mfind()\n\u001b[0;32m      5\u001b[0m \u001b[38;5;66;03m# The above lines are used mostly in Windows only and you don't need them on other platforms.\u001b[39;00m\n",
      "File \u001b[1;32mc:\\Users\\Haiya\\anaconda3\\Lib\\site-packages\\findspark.py:143\u001b[0m, in \u001b[0;36minit\u001b[1;34m(spark_home, python_path, edit_rc, edit_profile)\u001b[0m\n\u001b[0;32m    121\u001b[0m \u001b[38;5;250m\u001b[39m\u001b[38;5;124;03m\"\"\"Make pyspark importable.\u001b[39;00m\n\u001b[0;32m    122\u001b[0m \n\u001b[0;32m    123\u001b[0m \u001b[38;5;124;03mSets environment variables and adds dependencies to sys.path.\u001b[39;00m\n\u001b[1;32m   (...)\u001b[0m\n\u001b[0;32m    139\u001b[0m \u001b[38;5;124;03m    configure and import pyspark.\u001b[39;00m\n\u001b[0;32m    140\u001b[0m \u001b[38;5;124;03m\"\"\"\u001b[39;00m\n\u001b[0;32m    142\u001b[0m \u001b[38;5;28;01mif\u001b[39;00m \u001b[38;5;129;01mnot\u001b[39;00m spark_home:\n\u001b[1;32m--> 143\u001b[0m     spark_home \u001b[38;5;241m=\u001b[39m find()\n\u001b[0;32m    145\u001b[0m \u001b[38;5;28;01mif\u001b[39;00m \u001b[38;5;129;01mnot\u001b[39;00m python_path:\n\u001b[0;32m    146\u001b[0m     python_path \u001b[38;5;241m=\u001b[39m os\u001b[38;5;241m.\u001b[39menviron\u001b[38;5;241m.\u001b[39mget(\u001b[38;5;124m\"\u001b[39m\u001b[38;5;124mPYSPARK_PYTHON\u001b[39m\u001b[38;5;124m\"\u001b[39m, sys\u001b[38;5;241m.\u001b[39mexecutable)\n",
      "File \u001b[1;32mc:\\Users\\Haiya\\anaconda3\\Lib\\site-packages\\findspark.py:46\u001b[0m, in \u001b[0;36mfind\u001b[1;34m()\u001b[0m\n\u001b[0;32m     43\u001b[0m         spark_home \u001b[38;5;241m=\u001b[39m os\u001b[38;5;241m.\u001b[39mpath\u001b[38;5;241m.\u001b[39mdirname(pyspark\u001b[38;5;241m.\u001b[39m\u001b[38;5;18m__file__\u001b[39m)\n\u001b[0;32m     45\u001b[0m \u001b[38;5;28;01mif\u001b[39;00m \u001b[38;5;129;01mnot\u001b[39;00m spark_home:\n\u001b[1;32m---> 46\u001b[0m     \u001b[38;5;28;01mraise\u001b[39;00m \u001b[38;5;167;01mValueError\u001b[39;00m(\n\u001b[0;32m     47\u001b[0m         \u001b[38;5;124m\"\u001b[39m\u001b[38;5;124mCouldn\u001b[39m\u001b[38;5;124m'\u001b[39m\u001b[38;5;124mt find Spark, make sure SPARK_HOME env is set\u001b[39m\u001b[38;5;124m\"\u001b[39m\n\u001b[0;32m     48\u001b[0m         \u001b[38;5;124m\"\u001b[39m\u001b[38;5;124m or Spark is in an expected location (e.g. from homebrew installation).\u001b[39m\u001b[38;5;124m\"\u001b[39m\n\u001b[0;32m     49\u001b[0m     )\n\u001b[0;32m     51\u001b[0m \u001b[38;5;28;01mreturn\u001b[39;00m spark_home\n",
      "\u001b[1;31mValueError\u001b[0m: Couldn't find Spark, make sure SPARK_HOME env is set or Spark is in an expected location (e.g. from homebrew installation)."
     ]
    }
   ],
   "source": [
    "# Uncomment the following lines if you are using Windows!\n",
    "import findspark\n",
    "findspark.init()\n",
    "findspark.find()\n",
    "# The above lines are used mostly in Windows only and you don't need them on other platforms.\n",
    "import pyspark\n",
    "from pyspark.sql import SparkSession\n",
    "\n",
    "\n",
    "spark = SparkSession.builder.master(\"local[*]\").appName('SparkTest').getOrCreate()"
   ]
  },
  {
   "cell_type": "raw",
   "metadata": {
    "slideshow": {
     "slide_type": "notes"
    }
   },
   "source": [
    "<p style=\"page-break-after:always;\"></p>"
   ]
  },
  {
   "cell_type": "markdown",
   "metadata": {
    "slideshow": {
     "slide_type": "slide"
    }
   },
   "source": [
    "<h2>Download Data Files Remotely</h2>"
   ]
  },
  {
   "cell_type": "code",
   "execution_count": null,
   "metadata": {
    "slideshow": {
     "slide_type": "fragment"
    }
   },
   "outputs": [],
   "source": [
    "!pip install wget"
   ]
  },
  {
   "cell_type": "code",
   "execution_count": 5,
   "metadata": {
    "slideshow": {
     "slide_type": "fragment"
    }
   },
   "outputs": [
    {
     "name": "stdout",
     "output_type": "stream",
     "text": [
      "\n",
      "Saved under KDDTrain+.txt\n"
     ]
    }
   ],
   "source": [
    "# Downloading and preprocessing KDD Train Data \n",
    "!python -m wget https://www.andrew.cmu.edu/user/mfarag/763/KDDTrain+.txt"
   ]
  },
  {
   "cell_type": "markdown",
   "metadata": {
    "slideshow": {
     "slide_type": "slide"
    }
   },
   "source": [
    "<h2>Cloud Consideration</h2>\n",
    "Your data need to be moved to a special storage server if you are running Spark on the Cloud. This special storage is called HDFS. The following command is used to move your data from your local storage to the special storage server."
   ]
  },
  {
   "cell_type": "code",
   "execution_count": null,
   "metadata": {
    "slideshow": {
     "slide_type": "fragment"
    }
   },
   "outputs": [],
   "source": [
    "# Uncomment and Execute this line if you are running your notebook on the Cloud\n",
    "#!hadoop fs -put KDDTrain+.txt /"
   ]
  },
  {
   "cell_type": "raw",
   "metadata": {
    "slideshow": {
     "slide_type": "notes"
    }
   },
   "source": [
    "<p style=\"page-break-after:always;\"></p>"
   ]
  },
  {
   "cell_type": "markdown",
   "metadata": {
    "slideshow": {
     "slide_type": "slide"
    }
   },
   "source": [
    "<h2>Spark Dataframes</h2>"
   ]
  },
  {
   "cell_type": "markdown",
   "metadata": {
    "slideshow": {
     "slide_type": "fragment"
    }
   },
   "source": [
    "Inspired by pandas DataFrames in structure, format, and a few specific operations, Spark DataFrames are like distributed in-memory tables with named columns and schemas, where each column has a specific data type: integer, string, array, map, real, date, timestamp, etc. To a human’s eye, a Spark DataFrame is like a table"
   ]
  },
  {
   "cell_type": "markdown",
   "metadata": {
    "slideshow": {
     "slide_type": "slide"
    }
   },
   "source": [
    "When data are visualized as a structured table, it’s not only easy to digest but also easy to work with when it comes to common operations you might want to execute on rows and columns. <br/>Also, DataFrames are immutable and Spark keeps a lineage of all transformations. You can add or change the names and data types of the columns, creating new DataFrames while the previous versions are preserved. A named column in a DataFrame and its associated Spark data type can be declared in the schema."
   ]
  },
  {
   "cell_type": "markdown",
   "metadata": {
    "slideshow": {
     "slide_type": "fragment"
    }
   },
   "source": [
    "Let's examine the generic and structured data types available in Spark before we use them to define a schema. Then we'll illustrate how to create a DataFrame with a schema."
   ]
  },
  {
   "cell_type": "markdown",
   "metadata": {
    "slideshow": {
     "slide_type": "slide"
    }
   },
   "source": [
    "<h2><a href=\"https://spark.apache.org/docs/latest/sql-ref-datatypes.html\">Spark’s Basic Data Types</a></h2>"
   ]
  },
  {
   "cell_type": "markdown",
   "metadata": {
    "slideshow": {
     "slide_type": "fragment"
    }
   },
   "source": [
    "Spark supports basic internal data types. These data types can be declared in your Spark application or defined in your schema"
   ]
  },
  {
   "cell_type": "markdown",
   "metadata": {
    "slideshow": {
     "slide_type": "slide"
    }
   },
   "source": [
    "<center><figure><img src=\"http://stat.cmu.edu/~mfarag/14810/l5/spark_data_types.png\"/></figure></center>\n"
   ]
  },
  {
   "cell_type": "code",
   "execution_count": 2,
   "metadata": {
    "scrolled": false,
    "slideshow": {
     "slide_type": "slide"
    }
   },
   "outputs": [
    {
     "name": "stdout",
     "output_type": "stream",
     "text": [
      "-RECORD 0--------\n",
      " _c0  | 0        \n",
      " _c1  | tcp      \n",
      " _c2  | ftp_data \n",
      " _c3  | SF       \n",
      " _c4  | 491      \n",
      " _c5  | 0        \n",
      " _c6  | 0        \n",
      " _c7  | 0        \n",
      " _c8  | 0        \n",
      " _c9  | 0        \n",
      " _c10 | 0        \n",
      " _c11 | 0        \n",
      " _c12 | 0        \n",
      " _c13 | 0        \n",
      " _c14 | 0        \n",
      " _c15 | 0        \n",
      " _c16 | 0        \n",
      " _c17 | 0        \n",
      " _c18 | 0        \n",
      " _c19 | 0        \n",
      " _c20 | 0        \n",
      " _c21 | 0        \n",
      " _c22 | 2        \n",
      " _c23 | 2        \n",
      " _c24 | 0.00     \n",
      " _c25 | 0.00     \n",
      " _c26 | 0.00     \n",
      " _c27 | 0.00     \n",
      " _c28 | 1.00     \n",
      " _c29 | 0.00     \n",
      " _c30 | 0.00     \n",
      " _c31 | 150      \n",
      " _c32 | 25       \n",
      " _c33 | 0.17     \n",
      " _c34 | 0.03     \n",
      " _c35 | 0.17     \n",
      " _c36 | 0.00     \n",
      " _c37 | 0.00     \n",
      " _c38 | 0.00     \n",
      " _c39 | 0.05     \n",
      " _c40 | 0.00     \n",
      " _c41 | normal   \n",
      " _c42 | 20       \n",
      "-RECORD 1--------\n",
      " _c0  | 0        \n",
      " _c1  | udp      \n",
      " _c2  | other    \n",
      " _c3  | SF       \n",
      " _c4  | 146      \n",
      " _c5  | 0        \n",
      " _c6  | 0        \n",
      " _c7  | 0        \n",
      " _c8  | 0        \n",
      " _c9  | 0        \n",
      " _c10 | 0        \n",
      " _c11 | 0        \n",
      " _c12 | 0        \n",
      " _c13 | 0        \n",
      " _c14 | 0        \n",
      " _c15 | 0        \n",
      " _c16 | 0        \n",
      " _c17 | 0        \n",
      " _c18 | 0        \n",
      " _c19 | 0        \n",
      " _c20 | 0        \n",
      " _c21 | 0        \n",
      " _c22 | 13       \n",
      " _c23 | 1        \n",
      " _c24 | 0.00     \n",
      " _c25 | 0.00     \n",
      " _c26 | 0.00     \n",
      " _c27 | 0.00     \n",
      " _c28 | 0.08     \n",
      " _c29 | 0.15     \n",
      " _c30 | 0.00     \n",
      " _c31 | 255      \n",
      " _c32 | 1        \n",
      " _c33 | 0.00     \n",
      " _c34 | 0.60     \n",
      " _c35 | 0.88     \n",
      " _c36 | 0.00     \n",
      " _c37 | 0.00     \n",
      " _c38 | 0.00     \n",
      " _c39 | 0.00     \n",
      " _c40 | 0.00     \n",
      " _c41 | normal   \n",
      " _c42 | 15       \n",
      "-RECORD 2--------\n",
      " _c0  | 0        \n",
      " _c1  | tcp      \n",
      " _c2  | private  \n",
      " _c3  | S0       \n",
      " _c4  | 0        \n",
      " _c5  | 0        \n",
      " _c6  | 0        \n",
      " _c7  | 0        \n",
      " _c8  | 0        \n",
      " _c9  | 0        \n",
      " _c10 | 0        \n",
      " _c11 | 0        \n",
      " _c12 | 0        \n",
      " _c13 | 0        \n",
      " _c14 | 0        \n",
      " _c15 | 0        \n",
      " _c16 | 0        \n",
      " _c17 | 0        \n",
      " _c18 | 0        \n",
      " _c19 | 0        \n",
      " _c20 | 0        \n",
      " _c21 | 0        \n",
      " _c22 | 123      \n",
      " _c23 | 6        \n",
      " _c24 | 1.00     \n",
      " _c25 | 1.00     \n",
      " _c26 | 0.00     \n",
      " _c27 | 0.00     \n",
      " _c28 | 0.05     \n",
      " _c29 | 0.07     \n",
      " _c30 | 0.00     \n",
      " _c31 | 255      \n",
      " _c32 | 26       \n",
      " _c33 | 0.10     \n",
      " _c34 | 0.05     \n",
      " _c35 | 0.00     \n",
      " _c36 | 0.00     \n",
      " _c37 | 1.00     \n",
      " _c38 | 1.00     \n",
      " _c39 | 0.00     \n",
      " _c40 | 0.00     \n",
      " _c41 | neptune  \n",
      " _c42 | 19       \n",
      "-RECORD 3--------\n",
      " _c0  | 0        \n",
      " _c1  | tcp      \n",
      " _c2  | http     \n",
      " _c3  | SF       \n",
      " _c4  | 232      \n",
      " _c5  | 8153     \n",
      " _c6  | 0        \n",
      " _c7  | 0        \n",
      " _c8  | 0        \n",
      " _c9  | 0        \n",
      " _c10 | 0        \n",
      " _c11 | 1        \n",
      " _c12 | 0        \n",
      " _c13 | 0        \n",
      " _c14 | 0        \n",
      " _c15 | 0        \n",
      " _c16 | 0        \n",
      " _c17 | 0        \n",
      " _c18 | 0        \n",
      " _c19 | 0        \n",
      " _c20 | 0        \n",
      " _c21 | 0        \n",
      " _c22 | 5        \n",
      " _c23 | 5        \n",
      " _c24 | 0.20     \n",
      " _c25 | 0.20     \n",
      " _c26 | 0.00     \n",
      " _c27 | 0.00     \n",
      " _c28 | 1.00     \n",
      " _c29 | 0.00     \n",
      " _c30 | 0.00     \n",
      " _c31 | 30       \n",
      " _c32 | 255      \n",
      " _c33 | 1.00     \n",
      " _c34 | 0.00     \n",
      " _c35 | 0.03     \n",
      " _c36 | 0.04     \n",
      " _c37 | 0.03     \n",
      " _c38 | 0.01     \n",
      " _c39 | 0.00     \n",
      " _c40 | 0.01     \n",
      " _c41 | normal   \n",
      " _c42 | 21       \n",
      "-RECORD 4--------\n",
      " _c0  | 0        \n",
      " _c1  | tcp      \n",
      " _c2  | http     \n",
      " _c3  | SF       \n",
      " _c4  | 199      \n",
      " _c5  | 420      \n",
      " _c6  | 0        \n",
      " _c7  | 0        \n",
      " _c8  | 0        \n",
      " _c9  | 0        \n",
      " _c10 | 0        \n",
      " _c11 | 1        \n",
      " _c12 | 0        \n",
      " _c13 | 0        \n",
      " _c14 | 0        \n",
      " _c15 | 0        \n",
      " _c16 | 0        \n",
      " _c17 | 0        \n",
      " _c18 | 0        \n",
      " _c19 | 0        \n",
      " _c20 | 0        \n",
      " _c21 | 0        \n",
      " _c22 | 30       \n",
      " _c23 | 32       \n",
      " _c24 | 0.00     \n",
      " _c25 | 0.00     \n",
      " _c26 | 0.00     \n",
      " _c27 | 0.00     \n",
      " _c28 | 1.00     \n",
      " _c29 | 0.00     \n",
      " _c30 | 0.09     \n",
      " _c31 | 255      \n",
      " _c32 | 255      \n",
      " _c33 | 1.00     \n",
      " _c34 | 0.00     \n",
      " _c35 | 0.00     \n",
      " _c36 | 0.00     \n",
      " _c37 | 0.00     \n",
      " _c38 | 0.00     \n",
      " _c39 | 0.00     \n",
      " _c40 | 0.00     \n",
      " _c41 | normal   \n",
      " _c42 | 21       \n",
      "only showing top 5 rows\n",
      "\n"
     ]
    }
   ],
   "source": [
    "# Load data from csv to a dataframe on a local machine. \n",
    "# header=False means the first row is not a header \n",
    "# sep=',' means the column are seperated using ','\n",
    "df = spark.read.csv('KDDTrain+.txt', header=False, sep=\",\")\n",
    "# on the Cloud, the files will have to be at the root level. So, the cloud version is:\n",
    "#df = spark.read.csv('/KDDTrain+.txt', header=False, sep=\",\")\n",
    "\n",
    "df.show(5, vertical=True)"
   ]
  },
  {
   "cell_type": "raw",
   "metadata": {
    "slideshow": {
     "slide_type": "notes"
    }
   },
   "source": [
    "<p style=\"page-break-after:always;\"></p>"
   ]
  },
  {
   "cell_type": "markdown",
   "metadata": {
    "slideshow": {
     "slide_type": "slide"
    }
   },
   "source": [
    "<h2>Avoiding Auto-assigned Column Names: Read CSV and Specify the Column Names</h2>"
   ]
  },
  {
   "cell_type": "code",
   "execution_count": 6,
   "metadata": {
    "slideshow": {
     "slide_type": "fragment"
    }
   },
   "outputs": [
    {
     "name": "stdout",
     "output_type": "stream",
     "text": [
      "-RECORD 0-------------------------------\n",
      " duration                    | 0        \n",
      " protocol_type               | tcp      \n",
      " service                     | ftp_data \n",
      " flag                        | SF       \n",
      " src_bytes                   | 491      \n",
      " dst_bytes                   | 0        \n",
      " land                        | 0        \n",
      " wrong_fragment              | 0        \n",
      " urgent                      | 0        \n",
      " hot                         | 0        \n",
      " num_failed_logins           | 0        \n",
      " logged_in                   | 0        \n",
      " num_compromised             | 0        \n",
      " root_shell                  | 0        \n",
      " su_attempted                | 0        \n",
      " num_root                    | 0        \n",
      " num_file_creations          | 0        \n",
      " num_shells                  | 0        \n",
      " num_access_files            | 0        \n",
      " num_outbound_cmds           | 0        \n",
      " is_host_login               | 0        \n",
      " is_guest_login              | 0        \n",
      " count                       | 2        \n",
      " srv_count                   | 2        \n",
      " serror_rate                 | 0.0      \n",
      " srv_serror_rate             | 0.0      \n",
      " rerror_rate                 | 0.0      \n",
      " srv_rerror_rate             | 0.0      \n",
      " same_srv_rate               | 1.0      \n",
      " diff_srv_rate               | 0.0      \n",
      " srv_diff_host_rate          | 0.0      \n",
      " dst_host_count              | 150      \n",
      " dst_host_srv_count          | 25       \n",
      " dst_host_same_srv_rate      | 0.17     \n",
      " dst_host_diff_srv_rate      | 0.03     \n",
      " dst_host_same_src_port_rate | 0.17     \n",
      " dst_host_srv_diff_host_rate | 0.0      \n",
      " dst_host_serror_rate        | 0.0      \n",
      " dst_host_srv_serror_rate    | 0.0      \n",
      " dst_host_rerror_rate        | 0.05     \n",
      " dst_host_srv_rerror_rate    | 0.0      \n",
      " classes                     | normal   \n",
      " difficulty_level            | 20       \n",
      "only showing top 1 row\n",
      "\n"
     ]
    }
   ],
   "source": [
    "col_names = [\"duration\",\"protocol_type\",\"service\",\"flag\",\"src_bytes\",\n",
    "    \"dst_bytes\",\"land\",\"wrong_fragment\",\"urgent\",\"hot\",\"num_failed_logins\",\n",
    "    \"logged_in\",\"num_compromised\",\"root_shell\",\"su_attempted\",\"num_root\",\n",
    "    \"num_file_creations\",\"num_shells\",\"num_access_files\",\"num_outbound_cmds\",\n",
    "    \"is_host_login\",\"is_guest_login\",\"count\",\"srv_count\",\"serror_rate\",\n",
    "    \"srv_serror_rate\",\"rerror_rate\",\"srv_rerror_rate\",\"same_srv_rate\",\n",
    "    \"diff_srv_rate\",\"srv_diff_host_rate\",\"dst_host_count\",\"dst_host_srv_count\",\n",
    "    \"dst_host_same_srv_rate\",\"dst_host_diff_srv_rate\",\"dst_host_same_src_port_rate\",\n",
    "    \"dst_host_srv_diff_host_rate\",\"dst_host_serror_rate\",\"dst_host_srv_serror_rate\",\n",
    "    \"dst_host_rerror_rate\",\"dst_host_srv_rerror_rate\",\"classes\",\"difficulty_level\"]\n",
    "\n",
    "df = spark.read.csv(\"KDDTrain+.txt\",header=False, inferSchema= True).toDF(*col_names)\n",
    "\n",
    "# on the Cloud, the files will have to be at the root level. So, the cloud version is:\n",
    "# df = spark.read.csv(\"/KDDTrain+.txt\",header=False, inferSchema= True).toDF(*col_names)\n",
    "\n",
    "df.show(1, vertical=True)"
   ]
  },
  {
   "cell_type": "markdown",
   "metadata": {
    "slideshow": {
     "slide_type": "slide"
    }
   },
   "source": [
    "<h2>More ways to Display Dataframes</h2>"
   ]
  },
  {
   "cell_type": "markdown",
   "metadata": {
    "slideshow": {
     "slide_type": "fragment"
    }
   },
   "source": [
    "\n",
    "1.   `df.take(5)` will return a list of five Row objects. \n",
    "2.   `df.collect()` will get all of the data from the entire DataFrame. Be really careful when using it, because if you have a large data set, you can easily crash the driver node. \n",
    "3.   `df.show()` is the most commonly used method to view a dataframe. There are a few parameters we can pass to this method, like the number of rows and truncaiton. For example, `df.show(5, False)` or ` df.show(5, truncate=False)` will show the entire data wihtout any truncation.\n",
    "4.   `df.limit(5)` will **return a new DataFrame** by taking the first n rows. As spark is distributed in nature, there is no guarantee that `df.limit()` will give you the same results each time."
   ]
  },
  {
   "cell_type": "raw",
   "metadata": {
    "slideshow": {
     "slide_type": "notes"
    }
   },
   "source": [
    "<p style=\"page-break-after:always;\"></p>"
   ]
  },
  {
   "cell_type": "markdown",
   "metadata": {
    "slideshow": {
     "slide_type": "slide"
    }
   },
   "source": [
    "<h2>Schemas and Creating DataFrames</h2>"
   ]
  },
  {
   "cell_type": "markdown",
   "metadata": {
    "slideshow": {
     "slide_type": "fragment"
    }
   },
   "source": [
    "You can think about the dataframe as a table. A schema in Spark defines the column names and associated data types for a DataFrame. <b>Most often, schemas come into play when you are reading structured data from an external data source.</b> Defining a schema up front as opposed to taking a schema-on-read approach offers three benefits:\n",
    "\n",
    "<ul>\n",
    "<li>You relieve Spark from the onus of inferring data types.</li>\n",
    "<li>You prevent Spark from creating a separate job just to read a large portion of your file to assert the schema, which for a large data file can be expensive and time-consuming.</li>\n",
    "\n",
    "<li>You can detect errors early if data don't match the schema.</li>\n",
    "</ul>\n",
    "We will explore the creation of schemas and we want you to leverage them. That said, we will automatically infer the schemas when running the code in the lecture for simplicity."
   ]
  },
  {
   "cell_type": "markdown",
   "metadata": {
    "slideshow": {
     "slide_type": "slide"
    }
   },
   "source": [
    "You may also create your own schema using data field name followed by data type."
   ]
  },
  {
   "cell_type": "code",
   "execution_count": 2,
   "metadata": {
    "scrolled": false,
    "slideshow": {
     "slide_type": "fragment"
    }
   },
   "outputs": [
    {
     "name": "stdout",
     "output_type": "stream",
     "text": [
      "+---+---------+-----------------+\n",
      "| id|firstName|          WEBSITE|\n",
      "+---+---------+-----------------+\n",
      "|  1|     John|https://tinyurl.1|\n",
      "|  2|   Brooke|https://tinyurl.2|\n",
      "+---+---------+-----------------+\n",
      "\n",
      "root\n",
      " |-- id: integer (nullable = true)\n",
      " |-- firstName: string (nullable = true)\n",
      " |-- WEBSITE: string (nullable = true)\n",
      "\n"
     ]
    }
   ],
   "source": [
    "schema = \"id INT, firstName STRING, WEBSITE STRING\"\n",
    "data = [[1, \"John\", \"https://tinyurl.1\"],\n",
    "       [2, \"Brooke\", \"https://tinyurl.2\"]]\n",
    "\n",
    "test_df = spark.createDataFrame(data, schema)\n",
    "test_df.show()\n",
    "test_df.printSchema()"
   ]
  },
  {
   "cell_type": "markdown",
   "metadata": {
    "slideshow": {
     "slide_type": "slide"
    }
   },
   "source": [
    "<h2>Display Schema Information for Your Dataframe</h2>"
   ]
  },
  {
   "cell_type": "code",
   "execution_count": 7,
   "metadata": {
    "scrolled": false,
    "slideshow": {
     "slide_type": "fragment"
    }
   },
   "outputs": [
    {
     "name": "stdout",
     "output_type": "stream",
     "text": [
      "root\n",
      " |-- duration: integer (nullable = true)\n",
      " |-- protocol_type: string (nullable = true)\n",
      " |-- service: string (nullable = true)\n",
      " |-- flag: string (nullable = true)\n",
      " |-- src_bytes: integer (nullable = true)\n",
      " |-- dst_bytes: integer (nullable = true)\n",
      " |-- land: integer (nullable = true)\n",
      " |-- wrong_fragment: integer (nullable = true)\n",
      " |-- urgent: integer (nullable = true)\n",
      " |-- hot: integer (nullable = true)\n",
      " |-- num_failed_logins: integer (nullable = true)\n",
      " |-- logged_in: integer (nullable = true)\n",
      " |-- num_compromised: integer (nullable = true)\n",
      " |-- root_shell: integer (nullable = true)\n",
      " |-- su_attempted: integer (nullable = true)\n",
      " |-- num_root: integer (nullable = true)\n",
      " |-- num_file_creations: integer (nullable = true)\n",
      " |-- num_shells: integer (nullable = true)\n",
      " |-- num_access_files: integer (nullable = true)\n",
      " |-- num_outbound_cmds: integer (nullable = true)\n",
      " |-- is_host_login: integer (nullable = true)\n",
      " |-- is_guest_login: integer (nullable = true)\n",
      " |-- count: integer (nullable = true)\n",
      " |-- srv_count: integer (nullable = true)\n",
      " |-- serror_rate: double (nullable = true)\n",
      " |-- srv_serror_rate: double (nullable = true)\n",
      " |-- rerror_rate: double (nullable = true)\n",
      " |-- srv_rerror_rate: double (nullable = true)\n",
      " |-- same_srv_rate: double (nullable = true)\n",
      " |-- diff_srv_rate: double (nullable = true)\n",
      " |-- srv_diff_host_rate: double (nullable = true)\n",
      " |-- dst_host_count: integer (nullable = true)\n",
      " |-- dst_host_srv_count: integer (nullable = true)\n",
      " |-- dst_host_same_srv_rate: double (nullable = true)\n",
      " |-- dst_host_diff_srv_rate: double (nullable = true)\n",
      " |-- dst_host_same_src_port_rate: double (nullable = true)\n",
      " |-- dst_host_srv_diff_host_rate: double (nullable = true)\n",
      " |-- dst_host_serror_rate: double (nullable = true)\n",
      " |-- dst_host_srv_serror_rate: double (nullable = true)\n",
      " |-- dst_host_rerror_rate: double (nullable = true)\n",
      " |-- dst_host_srv_rerror_rate: double (nullable = true)\n",
      " |-- classes: string (nullable = true)\n",
      " |-- difficulty_level: integer (nullable = true)\n",
      "\n"
     ]
    }
   ],
   "source": [
    "df.printSchema() # or df.dtypes"
   ]
  },
  {
   "cell_type": "markdown",
   "metadata": {
    "slideshow": {
     "slide_type": "slide"
    }
   },
   "source": [
    "<h2>Print Column Names in Your Dataframe</h2>"
   ]
  },
  {
   "cell_type": "code",
   "execution_count": 5,
   "metadata": {
    "slideshow": {
     "slide_type": "fragment"
    }
   },
   "outputs": [
    {
     "name": "stdout",
     "output_type": "stream",
     "text": [
      "['duration', 'protocol_type', 'service', 'flag', 'src_bytes', 'dst_bytes', 'land', 'wrong_fragment', 'urgent', 'hot', 'num_failed_logins', 'logged_in', 'num_compromised', 'root_shell', 'su_attempted', 'num_root', 'num_file_creations', 'num_shells', 'num_access_files', 'num_outbound_cmds', 'is_host_login', 'is_guest_login', 'count', 'srv_count', 'serror_rate', 'srv_serror_rate', 'rerror_rate', 'srv_rerror_rate', 'same_srv_rate', 'diff_srv_rate', 'srv_diff_host_rate', 'dst_host_count', 'dst_host_srv_count', 'dst_host_same_srv_rate', 'dst_host_diff_srv_rate', 'dst_host_same_src_port_rate', 'dst_host_srv_diff_host_rate', 'dst_host_serror_rate', 'dst_host_srv_serror_rate', 'dst_host_rerror_rate', 'dst_host_srv_rerror_rate', 'classes', 'difficulty_level']\n"
     ]
    }
   ],
   "source": [
    "print(df.columns)"
   ]
  },
  {
   "cell_type": "markdown",
   "metadata": {
    "slideshow": {
     "slide_type": "slide"
    }
   },
   "source": [
    "<h2>Print Total Number of Your Records in Your Dataframe</h2>"
   ]
  },
  {
   "cell_type": "code",
   "execution_count": 7,
   "metadata": {
    "slideshow": {
     "slide_type": "fragment"
    }
   },
   "outputs": [
    {
     "name": "stdout",
     "output_type": "stream",
     "text": [
      "125973\n"
     ]
    }
   ],
   "source": [
    "print(df.count())"
   ]
  },
  {
   "cell_type": "markdown",
   "metadata": {
    "slideshow": {
     "slide_type": "slide"
    }
   },
   "source": [
    "<h2>Print Sample Record from Your Dataframe</h2>"
   ]
  },
  {
   "cell_type": "code",
   "execution_count": 8,
   "metadata": {
    "slideshow": {
     "slide_type": "fragment"
    }
   },
   "outputs": [
    {
     "name": "stdout",
     "output_type": "stream",
     "text": [
      "-RECORD 0-------------------------------\n",
      " duration                    | 0        \n",
      " protocol_type               | tcp      \n",
      " service                     | ftp_data \n",
      " flag                        | SF       \n",
      " src_bytes                   | 491      \n",
      " dst_bytes                   | 0        \n",
      " land                        | 0        \n",
      " wrong_fragment              | 0        \n",
      " urgent                      | 0        \n",
      " hot                         | 0        \n",
      " num_failed_logins           | 0        \n",
      " logged_in                   | 0        \n",
      " num_compromised             | 0        \n",
      " root_shell                  | 0        \n",
      " su_attempted                | 0        \n",
      " num_root                    | 0        \n",
      " num_file_creations          | 0        \n",
      " num_shells                  | 0        \n",
      " num_access_files            | 0        \n",
      " num_outbound_cmds           | 0        \n",
      " is_host_login               | 0        \n",
      " is_guest_login              | 0        \n",
      " count                       | 2        \n",
      " srv_count                   | 2        \n",
      " serror_rate                 | 0.0      \n",
      " srv_serror_rate             | 0.0      \n",
      " rerror_rate                 | 0.0      \n",
      " srv_rerror_rate             | 0.0      \n",
      " same_srv_rate               | 1.0      \n",
      " diff_srv_rate               | 0.0      \n",
      " srv_diff_host_rate          | 0.0      \n",
      " dst_host_count              | 150      \n",
      " dst_host_srv_count          | 25       \n",
      " dst_host_same_srv_rate      | 0.17     \n",
      " dst_host_diff_srv_rate      | 0.03     \n",
      " dst_host_same_src_port_rate | 0.17     \n",
      " dst_host_srv_diff_host_rate | 0.0      \n",
      " dst_host_serror_rate        | 0.0      \n",
      " dst_host_srv_serror_rate    | 0.0      \n",
      " dst_host_rerror_rate        | 0.05     \n",
      " dst_host_srv_rerror_rate    | 0.0      \n",
      " classes                     | normal   \n",
      " difficulty_level            | 20       \n",
      "only showing top 1 row\n",
      "\n"
     ]
    }
   ],
   "source": [
    "df.show(1, vertical=True)"
   ]
  },
  {
   "cell_type": "markdown",
   "metadata": {
    "slideshow": {
     "slide_type": "slide"
    }
   },
   "source": [
    "<h2>DataFrame Operations on Columns</h2>"
   ]
  },
  {
   "cell_type": "markdown",
   "metadata": {
    "slideshow": {
     "slide_type": "fragment"
    }
   },
   "source": [
    "1. Selecting Columns & Creating Subset Dataframes\n",
    "2. Adding New Columns\n",
    "3. Renaming Columns\n",
    "4. Removing Columns"
   ]
  },
  {
   "cell_type": "raw",
   "metadata": {
    "slideshow": {
     "slide_type": "notes"
    }
   },
   "source": [
    "<p style=\"page-break-after:always;\"></p>"
   ]
  },
  {
   "cell_type": "markdown",
   "metadata": {
    "slideshow": {
     "slide_type": "slide"
    }
   },
   "source": [
    "<h2>Create a Subset Dataframe from Your Dataframe</h2>"
   ]
  },
  {
   "cell_type": "code",
   "execution_count": 9,
   "metadata": {
    "slideshow": {
     "slide_type": "fragment"
    }
   },
   "outputs": [
    {
     "name": "stdout",
     "output_type": "stream",
     "text": [
      "+--------+-------------+--------+-------+----------------+\n",
      "|duration|protocol_type| service|classes|difficulty_level|\n",
      "+--------+-------------+--------+-------+----------------+\n",
      "|       0|          tcp|ftp_data| normal|              20|\n",
      "|       0|          udp|   other| normal|              15|\n",
      "|       0|          tcp| private|neptune|              19|\n",
      "|       0|          tcp|    http| normal|              21|\n",
      "|       0|          tcp|    http| normal|              21|\n",
      "+--------+-------------+--------+-------+----------------+\n",
      "only showing top 5 rows\n",
      "\n"
     ]
    }
   ],
   "source": [
    "small_df = df.select(\"duration\",\"protocol_type\",\"service\",\"classes\",\"difficulty_level\")\n",
    "small_df.show(5)\n"
   ]
  },
  {
   "cell_type": "markdown",
   "metadata": {
    "slideshow": {
     "slide_type": "slide"
    }
   },
   "source": [
    "<h2>Display Summary Statistics in Your Dataframe</h2>"
   ]
  },
  {
   "cell_type": "code",
   "execution_count": 10,
   "metadata": {
    "slideshow": {
     "slide_type": "fragment"
    }
   },
   "outputs": [
    {
     "name": "stdout",
     "output_type": "stream",
     "text": [
      "-RECORD 0-------------------------------------------\n",
      " summary                     | count                \n",
      " duration                    | 125973               \n",
      " protocol_type               | 125973               \n",
      " service                     | 125973               \n",
      " flag                        | 125973               \n",
      " src_bytes                   | 125973               \n",
      " dst_bytes                   | 125973               \n",
      " land                        | 125973               \n",
      " wrong_fragment              | 125973               \n",
      " urgent                      | 125973               \n",
      " hot                         | 125973               \n",
      " num_failed_logins           | 125973               \n",
      " logged_in                   | 125973               \n",
      " num_compromised             | 125973               \n",
      " root_shell                  | 125973               \n",
      " su_attempted                | 125973               \n",
      " num_root                    | 125973               \n",
      " num_file_creations          | 125973               \n",
      " num_shells                  | 125973               \n",
      " num_access_files            | 125973               \n",
      " num_outbound_cmds           | 125973               \n",
      " is_host_login               | 125973               \n",
      " is_guest_login              | 125973               \n",
      " count                       | 125973               \n",
      " srv_count                   | 125973               \n",
      " serror_rate                 | 125973               \n",
      " srv_serror_rate             | 125973               \n",
      " rerror_rate                 | 125973               \n",
      " srv_rerror_rate             | 125973               \n",
      " same_srv_rate               | 125973               \n",
      " diff_srv_rate               | 125973               \n",
      " srv_diff_host_rate          | 125973               \n",
      " dst_host_count              | 125973               \n",
      " dst_host_srv_count          | 125973               \n",
      " dst_host_same_srv_rate      | 125973               \n",
      " dst_host_diff_srv_rate      | 125973               \n",
      " dst_host_same_src_port_rate | 125973               \n",
      " dst_host_srv_diff_host_rate | 125973               \n",
      " dst_host_serror_rate        | 125973               \n",
      " dst_host_srv_serror_rate    | 125973               \n",
      " dst_host_rerror_rate        | 125973               \n",
      " dst_host_srv_rerror_rate    | 125973               \n",
      " classes                     | 125973               \n",
      " difficulty_level            | 125973               \n",
      "-RECORD 1-------------------------------------------\n",
      " summary                     | mean                 \n",
      " duration                    | 287.1446500440571    \n",
      " protocol_type               | null                 \n",
      " service                     | null                 \n",
      " flag                        | null                 \n",
      " src_bytes                   | 45566.74300048423    \n",
      " dst_bytes                   | 19779.114421344257   \n",
      " land                        | 1.984552245322410... \n",
      " wrong_fragment              | 0.022687401268525795 \n",
      " urgent                      | 1.111349257380549... \n",
      " hot                         | 0.20440888126820828  \n",
      " num_failed_logins           | 0.001222484183118... \n",
      " logged_in                   | 0.3957355941352512   \n",
      " num_compromised             | 0.279250315543807    \n",
      " root_shell                  | 0.001341557317837... \n",
      " su_attempted                | 0.001103411048399... \n",
      " num_root                    | 0.30219173949973405  \n",
      " num_file_creations          | 0.012669381534138267 \n",
      " num_shells                  | 4.127868670270613... \n",
      " num_access_files            | 0.004096115834345455 \n",
      " num_outbound_cmds           | 0.0                  \n",
      " is_host_login               | 7.938208981289641E-6 \n",
      " is_guest_login              | 0.009422654060790804 \n",
      " count                       | 84.1075547934875     \n",
      " srv_count                   | 27.737888277646796   \n",
      " serror_rate                 | 0.28448453239979987  \n",
      " srv_serror_rate             | 0.282485373849952    \n",
      " rerror_rate                 | 0.11995848316702792  \n",
      " srv_rerror_rate             | 0.12118326943075095  \n",
      " same_srv_rate               | 0.6609276591015695   \n",
      " diff_srv_rate               | 0.06305263826374652  \n",
      " srv_diff_host_rate          | 0.09732164828971333  \n",
      " dst_host_count              | 182.14894461511594   \n",
      " dst_host_srv_count          | 115.65300500900987   \n",
      " dst_host_same_srv_rate      | 0.5212416946488765   \n",
      " dst_host_diff_srv_rate      | 0.08295110857087815  \n",
      " dst_host_same_src_port_rate | 0.14837885896185457  \n",
      " dst_host_srv_diff_host_rate | 0.03254244957252493  \n",
      " dst_host_serror_rate        | 0.28445246203552055  \n",
      " dst_host_srv_serror_rate    | 0.2784845165233873   \n",
      " dst_host_rerror_rate        | 0.11883181316631444  \n",
      " dst_host_srv_rerror_rate    | 0.12023989267541528  \n",
      " classes                     | null                 \n",
      " difficulty_level            | 19.50406039389393    \n",
      "-RECORD 2-------------------------------------------\n",
      " summary                     | stddev               \n",
      " duration                    | 2604.515309867593    \n",
      " protocol_type               | null                 \n",
      " service                     | null                 \n",
      " flag                        | null                 \n",
      " src_bytes                   | 5870331.181893545    \n",
      " dst_bytes                   | 4021269.151441453    \n",
      " land                        | 0.01408607167151309  \n",
      " wrong_fragment              | 0.25352998595201326  \n",
      " urgent                      | 0.014366026620154241 \n",
      " hot                         | 2.1499684337047613   \n",
      " num_failed_logins           | 0.04523913898132976  \n",
      " logged_in                   | 0.48901005300524086  \n",
      " num_compromised             | 23.942042242794997   \n",
      " root_shell                  | 0.03660284383979861  \n",
      " su_attempted                | 0.045154383813865565 \n",
      " num_root                    | 24.39961808883742    \n",
      " num_file_creations          | 0.48393506939604286  \n",
      " num_shells                  | 0.022181128678694186 \n",
      " num_access_files            | 0.09936955575066152  \n",
      " num_outbound_cmds           | 0.0                  \n",
      " is_host_login               | 0.002817482738419... \n",
      " is_guest_login              | 0.09661232709143097  \n",
      " count                       | 114.50860735418416   \n",
      " srv_count                   | 72.63583964723834    \n",
      " serror_rate                 | 0.4464556243310231   \n",
      " srv_serror_rate             | 0.44702249836401775  \n",
      " rerror_rate                 | 0.3204355207495169   \n",
      " srv_rerror_rate             | 0.3236472280054634   \n",
      " same_srv_rate               | 0.4396228624074803   \n",
      " diff_srv_rate               | 0.180314407508575    \n",
      " srv_diff_host_rate          | 0.2598304981211588   \n",
      " dst_host_count              | 99.20621303459787    \n",
      " dst_host_srv_count          | 110.70274078086481   \n",
      " dst_host_same_srv_rate      | 0.4489493637176793   \n",
      " dst_host_diff_srv_rate      | 0.18892179990461475  \n",
      " dst_host_same_src_port_rate | 0.30899713037298815  \n",
      " dst_host_srv_diff_host_rate | 0.11256380488118997  \n",
      " dst_host_serror_rate        | 0.444784050316489    \n",
      " dst_host_srv_serror_rate    | 0.4456691238860298   \n",
      " dst_host_rerror_rate        | 0.3065574580251692   \n",
      " dst_host_srv_rerror_rate    | 0.31945939045523153  \n",
      " classes                     | null                 \n",
      " difficulty_level            | 2.291502939101359    \n",
      "-RECORD 3-------------------------------------------\n",
      " summary                     | min                  \n",
      " duration                    | 0                    \n",
      " protocol_type               | icmp                 \n",
      " service                     | IRC                  \n",
      " flag                        | OTH                  \n",
      " src_bytes                   | 0                    \n",
      " dst_bytes                   | 0                    \n",
      " land                        | 0                    \n",
      " wrong_fragment              | 0                    \n",
      " urgent                      | 0                    \n",
      " hot                         | 0                    \n",
      " num_failed_logins           | 0                    \n",
      " logged_in                   | 0                    \n",
      " num_compromised             | 0                    \n",
      " root_shell                  | 0                    \n",
      " su_attempted                | 0                    \n",
      " num_root                    | 0                    \n",
      " num_file_creations          | 0                    \n",
      " num_shells                  | 0                    \n",
      " num_access_files            | 0                    \n",
      " num_outbound_cmds           | 0                    \n",
      " is_host_login               | 0                    \n",
      " is_guest_login              | 0                    \n",
      " count                       | 0                    \n",
      " srv_count                   | 0                    \n",
      " serror_rate                 | 0.0                  \n",
      " srv_serror_rate             | 0.0                  \n",
      " rerror_rate                 | 0.0                  \n",
      " srv_rerror_rate             | 0.0                  \n",
      " same_srv_rate               | 0.0                  \n",
      " diff_srv_rate               | 0.0                  \n",
      " srv_diff_host_rate          | 0.0                  \n",
      " dst_host_count              | 0                    \n",
      " dst_host_srv_count          | 0                    \n",
      " dst_host_same_srv_rate      | 0.0                  \n",
      " dst_host_diff_srv_rate      | 0.0                  \n",
      " dst_host_same_src_port_rate | 0.0                  \n",
      " dst_host_srv_diff_host_rate | 0.0                  \n",
      " dst_host_serror_rate        | 0.0                  \n",
      " dst_host_srv_serror_rate    | 0.0                  \n",
      " dst_host_rerror_rate        | 0.0                  \n",
      " dst_host_srv_rerror_rate    | 0.0                  \n",
      " classes                     | back                 \n",
      " difficulty_level            | 0                    \n",
      "-RECORD 4-------------------------------------------\n",
      " summary                     | max                  \n",
      " duration                    | 42908                \n",
      " protocol_type               | udp                  \n",
      " service                     | whois                \n",
      " flag                        | SH                   \n",
      " src_bytes                   | 1379963888           \n",
      " dst_bytes                   | 1309937401           \n",
      " land                        | 1                    \n",
      " wrong_fragment              | 3                    \n",
      " urgent                      | 3                    \n",
      " hot                         | 77                   \n",
      " num_failed_logins           | 5                    \n",
      " logged_in                   | 1                    \n",
      " num_compromised             | 7479                 \n",
      " root_shell                  | 1                    \n",
      " su_attempted                | 2                    \n",
      " num_root                    | 7468                 \n",
      " num_file_creations          | 43                   \n",
      " num_shells                  | 2                    \n",
      " num_access_files            | 9                    \n",
      " num_outbound_cmds           | 0                    \n",
      " is_host_login               | 1                    \n",
      " is_guest_login              | 1                    \n",
      " count                       | 511                  \n",
      " srv_count                   | 511                  \n",
      " serror_rate                 | 1.0                  \n",
      " srv_serror_rate             | 1.0                  \n",
      " rerror_rate                 | 1.0                  \n",
      " srv_rerror_rate             | 1.0                  \n",
      " same_srv_rate               | 1.0                  \n",
      " diff_srv_rate               | 1.0                  \n",
      " srv_diff_host_rate          | 1.0                  \n",
      " dst_host_count              | 255                  \n",
      " dst_host_srv_count          | 255                  \n",
      " dst_host_same_srv_rate      | 1.0                  \n",
      " dst_host_diff_srv_rate      | 1.0                  \n",
      " dst_host_same_src_port_rate | 1.0                  \n",
      " dst_host_srv_diff_host_rate | 1.0                  \n",
      " dst_host_serror_rate        | 1.0                  \n",
      " dst_host_srv_serror_rate    | 1.0                  \n",
      " dst_host_rerror_rate        | 1.0                  \n",
      " dst_host_srv_rerror_rate    | 1.0                  \n",
      " classes                     | warezmaster          \n",
      " difficulty_level            | 21                   \n",
      "\n"
     ]
    }
   ],
   "source": [
    "df.describe().show(vertical=True)"
   ]
  },
  {
   "cell_type": "markdown",
   "metadata": {
    "slideshow": {
     "slide_type": "slide"
    }
   },
   "source": [
    "<h2>Display Unique Values from a Column in Your Dataframe</h2>"
   ]
  },
  {
   "cell_type": "code",
   "execution_count": 11,
   "metadata": {
    "slideshow": {
     "slide_type": "fragment"
    }
   },
   "outputs": [
    {
     "name": "stdout",
     "output_type": "stream",
     "text": [
      "+---------------+\n",
      "|        classes|\n",
      "+---------------+\n",
      "|        neptune|\n",
      "|          satan|\n",
      "|           nmap|\n",
      "|      portsweep|\n",
      "|           back|\n",
      "|    warezclient|\n",
      "|   guess_passwd|\n",
      "|         normal|\n",
      "|        rootkit|\n",
      "|           perl|\n",
      "|buffer_overflow|\n",
      "|       multihop|\n",
      "|        ipsweep|\n",
      "|    warezmaster|\n",
      "|           imap|\n",
      "|       teardrop|\n",
      "|            spy|\n",
      "|           land|\n",
      "|            pod|\n",
      "|      ftp_write|\n",
      "|          smurf|\n",
      "|     loadmodule|\n",
      "|            phf|\n",
      "+---------------+\n",
      "\n"
     ]
    }
   ],
   "source": [
    "df.select(\"classes\").distinct().show(40)"
   ]
  },
  {
   "cell_type": "markdown",
   "metadata": {
    "slideshow": {
     "slide_type": "slide"
    }
   },
   "source": [
    "<h2>Add a Column to Your Dataframe</h2>"
   ]
  },
  {
   "cell_type": "code",
   "execution_count": 12,
   "metadata": {
    "slideshow": {
     "slide_type": "fragment"
    }
   },
   "outputs": [
    {
     "name": "stdout",
     "output_type": "stream",
     "text": [
      "-RECORD 0-------------------------------\n",
      " duration                    | 0        \n",
      " protocol_type               | tcp      \n",
      " service                     | ftp_data \n",
      " flag                        | SF       \n",
      " src_bytes                   | 491      \n",
      " dst_bytes                   | 0        \n",
      " land                        | 0        \n",
      " wrong_fragment              | 0        \n",
      " urgent                      | 0        \n",
      " hot                         | 0        \n",
      " num_failed_logins           | 0        \n",
      " logged_in                   | 0        \n",
      " num_compromised             | 0        \n",
      " root_shell                  | 0        \n",
      " su_attempted                | 0        \n",
      " num_root                    | 0        \n",
      " num_file_creations          | 0        \n",
      " num_shells                  | 0        \n",
      " num_access_files            | 0        \n",
      " num_outbound_cmds           | 0        \n",
      " is_host_login               | 0        \n",
      " is_guest_login              | 0        \n",
      " count                       | 2        \n",
      " srv_count                   | 2        \n",
      " serror_rate                 | 0.0      \n",
      " srv_serror_rate             | 0.0      \n",
      " rerror_rate                 | 0.0      \n",
      " srv_rerror_rate             | 0.0      \n",
      " same_srv_rate               | 1.0      \n",
      " diff_srv_rate               | 0.0      \n",
      " srv_diff_host_rate          | 0.0      \n",
      " dst_host_count              | 150      \n",
      " dst_host_srv_count          | 25       \n",
      " dst_host_same_srv_rate      | 0.17     \n",
      " dst_host_diff_srv_rate      | 0.03     \n",
      " dst_host_same_src_port_rate | 0.17     \n",
      " dst_host_srv_diff_host_rate | 0.0      \n",
      " dst_host_serror_rate        | 0.0      \n",
      " dst_host_srv_serror_rate    | 0.0      \n",
      " dst_host_rerror_rate        | 0.05     \n",
      " dst_host_srv_rerror_rate    | 0.0      \n",
      " classes                     | normal   \n",
      " difficulty_level            | 20       \n",
      " first_column                | 1        \n",
      "only showing top 1 row\n",
      "\n"
     ]
    }
   ],
   "source": [
    "# We will add a new column called 'first_column' at the end\n",
    "from pyspark.sql.functions import lit\n",
    "df = df.withColumn('first_column',lit(1)) \n",
    "# lit means literal. It populates the row with the literal value given.\n",
    "# When adding static data / constant values, it is a good practice to use it.\n",
    "df.show(1,vertical=True)"
   ]
  },
  {
   "cell_type": "markdown",
   "metadata": {
    "slideshow": {
     "slide_type": "slide"
    }
   },
   "source": [
    "<h2>Renaming a Column in Your Dataframe</h2>"
   ]
  },
  {
   "cell_type": "code",
   "execution_count": 13,
   "metadata": {
    "slideshow": {
     "slide_type": "fragment"
    }
   },
   "outputs": [
    {
     "name": "stdout",
     "output_type": "stream",
     "text": [
      "root\n",
      " |-- duration: integer (nullable = true)\n",
      " |-- protocol_type: string (nullable = true)\n",
      " |-- service: string (nullable = true)\n",
      " |-- flag: string (nullable = true)\n",
      " |-- src_bytes: integer (nullable = true)\n",
      " |-- dst_bytes: integer (nullable = true)\n",
      " |-- land: integer (nullable = true)\n",
      " |-- wrong_fragment: integer (nullable = true)\n",
      " |-- urgent: integer (nullable = true)\n",
      " |-- hot: integer (nullable = true)\n",
      " |-- num_failed_logins: integer (nullable = true)\n",
      " |-- logged_in: integer (nullable = true)\n",
      " |-- num_compromised: integer (nullable = true)\n",
      " |-- root_shell: integer (nullable = true)\n",
      " |-- su_attempted: integer (nullable = true)\n",
      " |-- num_root: integer (nullable = true)\n",
      " |-- num_file_creations: integer (nullable = true)\n",
      " |-- num_shells: integer (nullable = true)\n",
      " |-- num_access_files: integer (nullable = true)\n",
      " |-- num_outbound_cmds: integer (nullable = true)\n",
      " |-- is_host_login: integer (nullable = true)\n",
      " |-- is_guest_login: integer (nullable = true)\n",
      " |-- count: integer (nullable = true)\n",
      " |-- srv_count: integer (nullable = true)\n",
      " |-- serror_rate: double (nullable = true)\n",
      " |-- srv_serror_rate: double (nullable = true)\n",
      " |-- rerror_rate: double (nullable = true)\n",
      " |-- srv_rerror_rate: double (nullable = true)\n",
      " |-- same_srv_rate: double (nullable = true)\n",
      " |-- diff_srv_rate: double (nullable = true)\n",
      " |-- srv_diff_host_rate: double (nullable = true)\n",
      " |-- dst_host_count: integer (nullable = true)\n",
      " |-- dst_host_srv_count: integer (nullable = true)\n",
      " |-- dst_host_same_srv_rate: double (nullable = true)\n",
      " |-- dst_host_diff_srv_rate: double (nullable = true)\n",
      " |-- dst_host_same_src_port_rate: double (nullable = true)\n",
      " |-- dst_host_srv_diff_host_rate: double (nullable = true)\n",
      " |-- dst_host_serror_rate: double (nullable = true)\n",
      " |-- dst_host_srv_serror_rate: double (nullable = true)\n",
      " |-- dst_host_rerror_rate: double (nullable = true)\n",
      " |-- dst_host_srv_rerror_rate: double (nullable = true)\n",
      " |-- classes: string (nullable = true)\n",
      " |-- difficulty_level: integer (nullable = true)\n",
      " |-- new_column_one: integer (nullable = false)\n",
      "\n"
     ]
    }
   ],
   "source": [
    "df = df.withColumnRenamed('first_column', 'new_column_one')\n",
    "\n",
    "df.printSchema()\n"
   ]
  },
  {
   "cell_type": "markdown",
   "metadata": {
    "slideshow": {
     "slide_type": "slide"
    }
   },
   "source": [
    "<h2>Delete a Column from Your Dataframe</h2>"
   ]
  },
  {
   "cell_type": "code",
   "execution_count": null,
   "metadata": {
    "slideshow": {
     "slide_type": "fragment"
    }
   },
   "outputs": [],
   "source": [
    "df = df.drop('new_column_one')\n",
    "df.printSchema()"
   ]
  },
  {
   "cell_type": "raw",
   "metadata": {
    "slideshow": {
     "slide_type": "notes"
    }
   },
   "source": [
    "<p style=\"page-break-after:always;\"></p>"
   ]
  },
  {
   "cell_type": "markdown",
   "metadata": {
    "slideshow": {
     "slide_type": "slide"
    }
   },
   "source": [
    "<h2>Lab: Run Spark on the Cloud</h2>"
   ]
  },
  {
   "cell_type": "markdown",
   "metadata": {
    "slideshow": {
     "slide_type": "slide"
    }
   },
   "source": [
    "<h2>Create Clusters (e.g. Hadoop Clusters)</h2>"
   ]
  },
  {
   "cell_type": "markdown",
   "metadata": {
    "slideshow": {
     "slide_type": "fragment"
    }
   },
   "source": [
    "<li>A cluster is group of machines, servers, or nodes. It helps providing the sum of the computational power offered by all incorporated machines. It's difficult to build a local machine with 64GB RAM and 20TB of Storage but that is not difficult when you are running on the cloud.</li> \n",
    "<li>You may start by navigating to Dataproc and click on the Clusters section \n",
    "<img src=\"http://stat.cmu.edu/~mfarag/652/lectures/l4/create_your_cluster.png\"/>\n",
    "</li>"
   ]
  },
  {
   "cell_type": "markdown",
   "metadata": {
    "slideshow": {
     "slide_type": "slide"
    }
   },
   "source": [
    "<h2>Cluster - Setup</h2>"
   ]
  },
  {
   "cell_type": "markdown",
   "metadata": {
    "slideshow": {
     "slide_type": "fragment"
    }
   },
   "source": [
    "<li>Next, you need to create your cluster and choose the cluster to use \"Google Compute Engine\"</li>\n",
    "\n",
    "<img src=\"http://stat.cmu.edu/~mfarag/652/lectures/l4/create_cluster.png\"/>"
   ]
  },
  {
   "cell_type": "markdown",
   "metadata": {
    "slideshow": {
     "slide_type": "slide"
    }
   },
   "source": [
    "<h3>Cluster Configuration</h3>"
   ]
  },
  {
   "cell_type": "markdown",
   "metadata": {
    "slideshow": {
     "slide_type": "fragment"
    }
   },
   "source": [
    "<b>Make sure to follow the cluster creation guide posted on Canvas</b>"
   ]
  },
  {
   "cell_type": "markdown",
   "metadata": {
    "slideshow": {
     "slide_type": "slide"
    }
   },
   "source": [
    "<h3>Running Cluster</h3>"
   ]
  },
  {
   "cell_type": "markdown",
   "metadata": {
    "slideshow": {
     "slide_type": "fragment"
    }
   },
   "source": [
    "Once you click on the create button, Google Cloud will work on creating your own cluster and if it's successful, you will see your cluster running.\n",
    "<img src=\"http://stat.cmu.edu/~mfarag/652/lectures/l4/running_cluster.png\"/>"
   ]
  },
  {
   "cell_type": "markdown",
   "metadata": {
    "slideshow": {
     "slide_type": "slide"
    }
   },
   "source": [
    "<h3>Connect to Your Cluster</h3>"
   ]
  },
  {
   "cell_type": "markdown",
   "metadata": {
    "slideshow": {
     "slide_type": "fragment"
    }
   },
   "source": [
    "From the Web Interfaces, open Jupyter. Upload your Notebook to `GCS` folder and run the cells."
   ]
  }
 ],
 "metadata": {
  "celltoolbar": "Slideshow",
  "kernelspec": {
   "display_name": "base",
   "language": "python",
   "name": "python3"
  },
  "language_info": {
   "codemirror_mode": {
    "name": "ipython",
    "version": 3
   },
   "file_extension": ".py",
   "mimetype": "text/x-python",
   "name": "python",
   "nbconvert_exporter": "python",
   "pygments_lexer": "ipython3",
   "version": "3.13.5"
  }
 },
 "nbformat": 4,
 "nbformat_minor": 4
}
